{
 "cells": [
  {
   "cell_type": "code",
   "execution_count": 2,
   "id": "a4da000d",
   "metadata": {},
   "outputs": [],
   "source": [
    "import numpy as np\n",
    "import pandas as pd\n",
    "from bs4 import BeautifulSoup\n",
    "import requests\n",
    "from selenium import webdriver\n",
    "from selenium.webdriver.support.wait import WebDriverWait\n",
    "from selenium.webdriver.support import expected_conditions as EC\n",
    "from selenium.webdriver.common.by import By\n",
    "import json\n",
    "from selenium.webdriver.chrome.options import Options\n",
    "import time"
   ]
  },
  {
   "cell_type": "code",
   "execution_count": 42,
   "id": "311a39f9",
   "metadata": {},
   "outputs": [],
   "source": [
    "Headers={'user-agent':'Mozilla/5.0 (Windows NT 10.0; Win64; x64) AppleWebKit/537.36 (KHTML, like Gecko) Chrome/107.0.0.0 Safari/537.36'}\n",
    "content=requests.get('https://www.bigbasket.com/product/all-categories/',headers=Headers).text\n",
    "soup=BeautifulSoup(content,'html.parser')\n",
    "categories=soup.find_all('div',class_='dp_headding')\n",
    "Category=[]\n",
    "for category in categories:\n",
    "  Category.append(category.text)"
   ]
  },
  {
   "cell_type": "code",
   "execution_count": 43,
   "id": "1d4b726d",
   "metadata": {},
   "outputs": [],
   "source": [
    "selected_category = ['Foodgrains, Oil & Masala',\n",
    " 'Bakery, Cakes & Dairy',\n",
    " 'Beverages',\n",
    " 'Snacks & Branded Foods',\n",
    " 'Beauty & Hygiene',\n",
    " 'Cleaning & Household',\n",
    " 'Kitchen, Garden & Pets',\n",
    " 'Baby Care']"
   ]
  },
  {
   "cell_type": "code",
   "execution_count": 65,
   "id": "0c3681c1",
   "metadata": {},
   "outputs": [],
   "source": [
    "categories = []\n",
    "for heading, cover in zip(soup.find_all('div',class_='dp_headding'), soup.find_all('div',class_='uiv2-search-category-listing-cover')):\n",
    "    # if heading.text in selected_category:\n",
    "    for s in cover:\n",
    "        subcat1soup=s.find_all('div',class_='uiv2-search-cover')\n",
    "        for Sub in subcat1soup:\n",
    "            subCat=Sub.find('span').text\n",
    "            for subCat2soup in Sub.find_all('li'):\n",
    "                subCat2 = subCat2soup.text\n",
    "                categories.append({\n",
    "                    \"category\": heading.text,\n",
    "                    \"sub_category_1\": subCat,\n",
    "                    \"sub_category_2\": subCat2,\n",
    "                    \"link\": \"https://www.bigbasket.com\"+subCat2soup.find('a').get(\"href\")+\"#!page=1\"\n",
    "                })"
   ]
  },
  {
   "cell_type": "code",
   "execution_count": 66,
   "id": "6030683e",
   "metadata": {},
   "outputs": [],
   "source": [
    "with open(\"./assets/categories.json\", \"w\") as f:\n",
    "    json.dump(categories,f, indent=2)"
   ]
  },
  {
   "cell_type": "code",
   "execution_count": 7,
   "id": "c1323306",
   "metadata": {},
   "outputs": [],
   "source": [
    "def scrape_webpage(webpage_url:str):\n",
    "    chrome_options = Options()\n",
    "    chrome_options.add_argument(\"--headless=new\")\n",
    "    chrome_options.add_argument(\"--disable-blink-features=AutomationControlled\")\n",
    "    chrome_options.add_argument(\"user-agent=Mozilla/5.0 (Windows NT 10.0; Win64; x64) AppleWebKit/537.36 (KHTML, like Gecko) Chrome/122.0.0.0 Safari/537.36\")\n",
    "    chrome_options.add_experimental_option(\"excludeSwitches\", [\"enable-automation\"])\n",
    "    chrome_options.add_experimental_option(\"useAutomationExtension\", False)\n",
    "\n",
    "    driver = webdriver.Chrome(options=chrome_options)\n",
    "    # driver.get(\"https://www.bigbasket.com/pc/foodgrains-oil-masala/masalas-spices/herbs-seasoning/?nc=cs#!page=1\")\n",
    "    driver.get(webpage_url)\n",
    "\n",
    "    last_height = driver.execute_script(\"return document.body.scrollHeight\")\n",
    "    while True:\n",
    "        driver.execute_script(\"window.scrollTo(0, document.body.scrollHeight);\")\n",
    "        time.sleep(15)\n",
    "        new_height = driver.execute_script(\"return document.body.scrollHeight\")\n",
    "        if new_height == last_height:\n",
    "            break\n",
    "        last_height = new_height\n",
    "\n",
    "    WebDriverWait(driver, 15).until(\n",
    "        EC.presence_of_element_located((By.CSS_SELECTOR, \"img\"))\n",
    "    )\n",
    "    html = driver.page_source\n",
    "    driver.quit()\n",
    "    return BeautifulSoup(html, 'html.parser')\n"
   ]
  },
  {
   "cell_type": "code",
   "execution_count": 8,
   "id": "77ef3363",
   "metadata": {},
   "outputs": [],
   "source": [
    "def parse_soup(soup):\n",
    "    products_soup = soup.find(\"section\", class_=\"z-10\")\n",
    "    products_list = []\n",
    "    for product_soup in products_soup.find_all(\"li\"):\n",
    "        name = product_soup.find(\"div\", class_=\"break-words h-10 w-full\")\n",
    "        rating = product_soup.find(\"span\", class_=\"Label-sc-15v1nk5-0 gJxZPQ\")\n",
    "        sku_type = product_soup.find(\"span\", class_=\"Label-sc-15v1nk5-0 gJxZPQ truncate\")\n",
    "        brand_name = product_soup.find(\"span\", class_=\"Label-sc-15v1nk5-0 BrandName___StyledLabel2-sc-hssfrl-1 gJxZPQ keQNWn\")\n",
    "        image_src = None\n",
    "        if img:=product_soup.find(\"img\"):\n",
    "            image_src = img.get(\"src\")\n",
    "        if image_src:\n",
    "            products_list.append({\n",
    "            \"name\": getattr(name,\"text\", None),\n",
    "            \"sku_type\": getattr(sku_type,\"text\", None),\n",
    "            \"rating\": getattr(rating,\"text\", None),\n",
    "            \"image_link\": image_src\n",
    "        })\n",
    "    print(\"Total products in Cat: \", len(products_soup.find_all(\"li\")))\n",
    "    print(\"Products with image: \", len(products_list))\n",
    "    return products_list"
   ]
  },
  {
   "cell_type": "code",
   "execution_count": 9,
   "id": "4b1ff241",
   "metadata": {},
   "outputs": [],
   "source": [
    "import os\n",
    "import traceback"
   ]
  },
  {
   "cell_type": "code",
   "execution_count": 10,
   "id": "92a10eaa",
   "metadata": {},
   "outputs": [],
   "source": [
    "from tqdm import tqdm\n",
    "import re"
   ]
  },
  {
   "cell_type": "code",
   "execution_count": 11,
   "id": "f4d63195",
   "metadata": {},
   "outputs": [],
   "source": [
    "from concurrent.futures import ThreadPoolExecutor, as_completed"
   ]
  },
  {
   "cell_type": "code",
   "execution_count": 12,
   "id": "13b26621",
   "metadata": {},
   "outputs": [],
   "source": [
    "def process_category(category):\n",
    "    try:\n",
    "        category_name = re.sub(r'[^a-zA-Z0-9]', '', category.get(\"category\"))\n",
    "        sub_category_1 = re.sub(r'[^a-zA-Z0-9]', '', category.get(\"sub_category_1\"))\n",
    "        sub_category_2 = re.sub(r'[^a-zA-Z0-9]', '', category.get(\"sub_category_2\"))\n",
    "        link = category.get(\"link\")\n",
    "\n",
    "        dir_name = f\"./assets/product_links/{category_name}/\"\n",
    "        os.makedirs(dir_name, exist_ok=True)\n",
    "        file_name = dir_name + f\"{sub_category_1}_{sub_category_2}.json\"\n",
    "\n",
    "        products_list = parse_soup(scrape_webpage(link))\n",
    "\n",
    "        with open(file_name, \"w\") as f:\n",
    "            json.dump(products_list, f, indent=2)\n",
    "\n",
    "        return file_name  # for progress\n",
    "\n",
    "    except Exception as e:\n",
    "        traceback.print_exc()\n",
    "        print(f\"Failed while scraping for category: {category.get('link')}\")\n",
    "        return None"
   ]
  },
  {
   "cell_type": "code",
   "execution_count": 13,
   "id": "1b6dada3",
   "metadata": {},
   "outputs": [
    {
     "name": "stderr",
     "output_type": "stream",
     "text": [
      "Scraping:   0%|          | 0/115 [00:00<?, ?it/s]Traceback (most recent call last):\n",
      "  File \"C:\\Users\\Rishi\\AppData\\Local\\Temp\\ipykernel_24288\\3857703333.py\", line 12, in process_category\n",
      "    products_list = parse_soup(scrape_webpage(link))\n",
      "                               ~~~~~~~~~~~~~~^^^^^^\n",
      "  File \"C:\\Users\\Rishi\\AppData\\Local\\Temp\\ipykernel_24288\\1471710290.py\", line 9, in scrape_webpage\n",
      "    driver = webdriver.Chrome(options=chrome_options)\n",
      "  File \"d:\\tortoise\\cv\\.venv\\Lib\\site-packages\\selenium\\webdriver\\chrome\\webdriver.py\", line 47, in __init__\n",
      "    super().__init__(\n",
      "    ~~~~~~~~~~~~~~~~^\n",
      "        browser_name=DesiredCapabilities.CHROME[\"browserName\"],\n",
      "        ^^^^^^^^^^^^^^^^^^^^^^^^^^^^^^^^^^^^^^^^^^^^^^^^^^^^^^^\n",
      "    ...<3 lines>...\n",
      "        keep_alive=keep_alive,\n",
      "        ^^^^^^^^^^^^^^^^^^^^^^\n",
      "    )\n",
      "    ^\n",
      "  File \"d:\\tortoise\\cv\\.venv\\Lib\\site-packages\\selenium\\webdriver\\chromium\\webdriver.py\", line 69, in __init__\n",
      "    super().__init__(command_executor=executor, options=options)\n",
      "    ~~~~~~~~~~~~~~~~^^^^^^^^^^^^^^^^^^^^^^^^^^^^^^^^^^^^^^^^^^^^\n",
      "  File \"d:\\tortoise\\cv\\.venv\\Lib\\site-packages\\selenium\\webdriver\\remote\\webdriver.py\", line 257, in __init__\n",
      "    self.start_session(capabilities)\n",
      "    ~~~~~~~~~~~~~~~~~~^^^^^^^^^^^^^^\n",
      "  File \"d:\\tortoise\\cv\\.venv\\Lib\\site-packages\\selenium\\webdriver\\remote\\webdriver.py\", line 356, in start_session\n",
      "    response = self.execute(Command.NEW_SESSION, caps)[\"value\"]\n",
      "               ~~~~~~~~~~~~^^^^^^^^^^^^^^^^^^^^^^^^^^^\n",
      "  File \"d:\\tortoise\\cv\\.venv\\Lib\\site-packages\\selenium\\webdriver\\remote\\webdriver.py\", line 447, in execute\n",
      "    self.error_handler.check_response(response)\n",
      "    ~~~~~~~~~~~~~~~~~~~~~~~~~~~~~~~~~^^^^^^^^^^\n",
      "  File \"d:\\tortoise\\cv\\.venv\\Lib\\site-packages\\selenium\\webdriver\\remote\\errorhandler.py\", line 232, in check_response\n",
      "    raise exception_class(message, screen, stacktrace)\n",
      "selenium.common.exceptions.SessionNotCreatedException: Message: session not created: probably user data directory is already in use, please specify a unique value for --user-data-dir argument, or don't use --user-data-dir\n",
      "Stacktrace:\n",
      "\tGetHandleVerifier [0x0x7ff761c0fe75+79173]\n",
      "\tGetHandleVerifier [0x0x7ff761c0fed0+79264]\n",
      "\t(No symbol) [0x0x7ff7619c9e5a]\n",
      "\t(No symbol) [0x0x7ff761a07b85]\n",
      "\t(No symbol) [0x0x7ff761a02b1d]\n",
      "\t(No symbol) [0x0x7ff761a567de]\n",
      "\t(No symbol) [0x0x7ff761a55f70]\n",
      "\t(No symbol) [0x0x7ff761a48743]\n",
      "\t(No symbol) [0x0x7ff761a114c1]\n",
      "\t(No symbol) [0x0x7ff761a12253]\n",
      "\tGetHandleVerifier [0x0x7ff761eda2ad+3004797]\n",
      "\tGetHandleVerifier [0x0x7ff761ed46fd+2981325]\n",
      "\tGetHandleVerifier [0x0x7ff761ef3350+3107360]\n",
      "\tGetHandleVerifier [0x0x7ff761c2a9fe+188622]\n",
      "\tGetHandleVerifier [0x0x7ff761c3228f+219487]\n",
      "\tGetHandleVerifier [0x0x7ff761c18dc4+115860]\n",
      "\tGetHandleVerifier [0x0x7ff761c18f79+116297]\n",
      "\tGetHandleVerifier [0x0x7ff761bff528+11256]\n",
      "\tBaseThreadInitThunk [0x0x7ff93242259d+29]\n",
      "\tRtlUserThreadStart [0x0x7ff93368af58+40]\n",
      "\n",
      "Scraping:   1%|          | 1/115 [00:05<11:21,  5.98s/it]"
     ]
    },
    {
     "name": "stdout",
     "output_type": "stream",
     "text": [
      "Failed while scraping for category: https://www.bigbasket.com/pc/fruits-vegetables/fresh-vegetables/potato-onion-tomato/?nc=cs#!page=1\n"
     ]
    },
    {
     "name": "stderr",
     "output_type": "stream",
     "text": [
      "Scraping:   2%|▏         | 2/115 [00:45<48:14, 25.62s/it]"
     ]
    },
    {
     "name": "stdout",
     "output_type": "stream",
     "text": [
      "Total products in Cat:  19\n",
      "Products with image:  10\n"
     ]
    },
    {
     "name": "stderr",
     "output_type": "stream",
     "text": [
      "Scraping:   3%|▎         | 3/115 [00:46<27:14, 14.59s/it]"
     ]
    },
    {
     "name": "stdout",
     "output_type": "stream",
     "text": [
      "Total products in Cat:  40\n",
      "Products with image:  9\n",
      "Total products in Cat:  23\n",
      "Products with image:  11\n"
     ]
    },
    {
     "name": "stderr",
     "output_type": "stream",
     "text": [
      "Scraping:   4%|▍         | 5/115 [00:47<10:38,  5.80s/it]"
     ]
    },
    {
     "name": "stdout",
     "output_type": "stream",
     "text": [
      "Total products in Cat:  48\n",
      "Products with image:  9\n"
     ]
    },
    {
     "name": "stderr",
     "output_type": "stream",
     "text": [
      "Scraping:   5%|▌         | 6/115 [00:47<07:11,  3.96s/it]"
     ]
    },
    {
     "name": "stdout",
     "output_type": "stream",
     "text": [
      "Total products in Cat:  49\n",
      "Products with image:  10\n"
     ]
    },
    {
     "name": "stderr",
     "output_type": "stream",
     "text": [
      "Scraping:   6%|▌         | 7/115 [00:49<06:07,  3.40s/it]"
     ]
    },
    {
     "name": "stdout",
     "output_type": "stream",
     "text": [
      "Total products in Cat:  44\n",
      "Products with image:  14\n"
     ]
    },
    {
     "name": "stderr",
     "output_type": "stream",
     "text": [
      "Scraping:   7%|▋         | 8/115 [01:30<26:53, 15.08s/it]"
     ]
    },
    {
     "name": "stdout",
     "output_type": "stream",
     "text": [
      "Total products in Cat:  48\n",
      "Products with image:  6\n"
     ]
    },
    {
     "name": "stderr",
     "output_type": "stream",
     "text": [
      "Scraping:   8%|▊         | 9/115 [01:30<18:22, 10.40s/it]"
     ]
    },
    {
     "name": "stdout",
     "output_type": "stream",
     "text": [
      "Total products in Cat:  37\n",
      "Products with image:  10\n"
     ]
    },
    {
     "name": "stderr",
     "output_type": "stream",
     "text": [
      "Scraping:   9%|▊         | 10/115 [01:30<12:57,  7.40s/it]"
     ]
    },
    {
     "name": "stdout",
     "output_type": "stream",
     "text": [
      "Total products in Cat:  46\n",
      "Products with image:  7\n"
     ]
    },
    {
     "name": "stderr",
     "output_type": "stream",
     "text": [
      "Scraping:  10%|▉         | 11/115 [01:32<09:45,  5.63s/it]"
     ]
    },
    {
     "name": "stdout",
     "output_type": "stream",
     "text": [
      "Total products in Cat:  50\n",
      "Products with image:  9\n"
     ]
    },
    {
     "name": "stderr",
     "output_type": "stream",
     "text": [
      "Scraping:  10%|█         | 12/115 [02:02<22:17, 12.98s/it]"
     ]
    },
    {
     "name": "stdout",
     "output_type": "stream",
     "text": [
      "Total products in Cat:  67\n",
      "Products with image:  34\n"
     ]
    },
    {
     "name": "stderr",
     "output_type": "stream",
     "text": [
      "Scraping:  11%|█▏        | 13/115 [02:04<16:19,  9.60s/it]"
     ]
    },
    {
     "name": "stdout",
     "output_type": "stream",
     "text": [
      "Total products in Cat:  100\n",
      "Products with image:  49\n"
     ]
    },
    {
     "name": "stderr",
     "output_type": "stream",
     "text": [
      "Scraping:  12%|█▏        | 14/115 [02:11<14:57,  8.89s/it]"
     ]
    },
    {
     "name": "stdout",
     "output_type": "stream",
     "text": [
      "Total products in Cat:  48\n",
      "Products with image:  30\n"
     ]
    },
    {
     "name": "stderr",
     "output_type": "stream",
     "text": [
      "Scraping:  13%|█▎        | 15/115 [02:12<10:51,  6.51s/it]"
     ]
    },
    {
     "name": "stdout",
     "output_type": "stream",
     "text": [
      "Total products in Cat:  9\n",
      "Products with image:  9\n"
     ]
    },
    {
     "name": "stderr",
     "output_type": "stream",
     "text": [
      "Scraping:  14%|█▍        | 16/115 [02:44<23:21, 14.16s/it]"
     ]
    },
    {
     "name": "stdout",
     "output_type": "stream",
     "text": [
      "Total products in Cat:  118\n",
      "Products with image:  82\n"
     ]
    },
    {
     "name": "stderr",
     "output_type": "stream",
     "text": [
      "Scraping:  15%|█▍        | 17/115 [02:57<22:28, 13.76s/it]"
     ]
    },
    {
     "name": "stdout",
     "output_type": "stream",
     "text": [
      "Total products in Cat:  39\n",
      "Products with image:  30\n"
     ]
    },
    {
     "name": "stderr",
     "output_type": "stream",
     "text": [
      "Scraping:  16%|█▌        | 18/115 [03:10<22:04, 13.66s/it]"
     ]
    },
    {
     "name": "stdout",
     "output_type": "stream",
     "text": [
      "Total products in Cat:  43\n",
      "Products with image:  31\n"
     ]
    },
    {
     "name": "stderr",
     "output_type": "stream",
     "text": [
      "Scraping:  17%|█▋        | 19/115 [03:20<20:17, 12.69s/it]"
     ]
    },
    {
     "name": "stdout",
     "output_type": "stream",
     "text": [
      "Total products in Cat:  95\n",
      "Products with image:  59\n"
     ]
    },
    {
     "name": "stderr",
     "output_type": "stream",
     "text": [
      "Scraping:  17%|█▋        | 20/115 [03:21<14:25,  9.12s/it]"
     ]
    },
    {
     "name": "stdout",
     "output_type": "stream",
     "text": [
      "Total products in Cat:  34\n",
      "Products with image:  25\n"
     ]
    },
    {
     "name": "stderr",
     "output_type": "stream",
     "text": [
      "Scraping:  18%|█▊        | 21/115 [03:36<16:48, 10.73s/it]"
     ]
    },
    {
     "name": "stdout",
     "output_type": "stream",
     "text": [
      "Total products in Cat:  17\n",
      "Products with image:  17\n"
     ]
    },
    {
     "name": "stderr",
     "output_type": "stream",
     "text": [
      "Traceback (most recent call last):\n",
      "  File \"C:\\Users\\Rishi\\AppData\\Local\\Temp\\ipykernel_24288\\3857703333.py\", line 12, in process_category\n",
      "    products_list = parse_soup(scrape_webpage(link))\n",
      "  File \"C:\\Users\\Rishi\\AppData\\Local\\Temp\\ipykernel_24288\\2207983750.py\", line 4, in parse_soup\n",
      "    for product_soup in products_soup.find_all(\"li\"):\n",
      "                        ^^^^^^^^^^^^^^^^^^^^^^\n",
      "AttributeError: 'NoneType' object has no attribute 'find_all'\n",
      "Scraping:  19%|█▉        | 22/115 [03:43<15:08,  9.77s/it]"
     ]
    },
    {
     "name": "stdout",
     "output_type": "stream",
     "text": [
      "Failed while scraping for category: https://www.bigbasket.com/pc/fruits-vegetables/flower-bouquets-bunches/other-flowers/?nc=cs#!page=1\n"
     ]
    },
    {
     "name": "stderr",
     "output_type": "stream",
     "text": [
      "Traceback (most recent call last):\n",
      "  File \"C:\\Users\\Rishi\\AppData\\Local\\Temp\\ipykernel_24288\\3857703333.py\", line 12, in process_category\n",
      "    products_list = parse_soup(scrape_webpage(link))\n",
      "  File \"C:\\Users\\Rishi\\AppData\\Local\\Temp\\ipykernel_24288\\2207983750.py\", line 4, in parse_soup\n",
      "    for product_soup in products_soup.find_all(\"li\"):\n",
      "                        ^^^^^^^^^^^^^^^^^^^^^^\n",
      "AttributeError: 'NoneType' object has no attribute 'find_all'\n",
      "Scraping:  20%|██        | 23/115 [03:59<17:42, 11.55s/it]"
     ]
    },
    {
     "name": "stdout",
     "output_type": "stream",
     "text": [
      "Failed while scraping for category: https://www.bigbasket.com/pc/fruits-vegetables/flower-bouquets-bunches/roses/?nc=cs#!page=1\n"
     ]
    },
    {
     "name": "stderr",
     "output_type": "stream",
     "text": [
      "Scraping:  21%|██        | 24/115 [04:04<14:38,  9.66s/it]"
     ]
    },
    {
     "name": "stdout",
     "output_type": "stream",
     "text": [
      "Total products in Cat:  25\n",
      "Products with image:  25\n"
     ]
    },
    {
     "name": "stderr",
     "output_type": "stream",
     "text": [
      "Scraping:  22%|██▏       | 25/115 [04:12<13:47,  9.20s/it]"
     ]
    },
    {
     "name": "stdout",
     "output_type": "stream",
     "text": [
      "Total products in Cat:  203\n",
      "Products with image:  149\n"
     ]
    },
    {
     "name": "stderr",
     "output_type": "stream",
     "text": [
      "Scraping:  23%|██▎       | 26/115 [04:30<17:31, 11.81s/it]"
     ]
    },
    {
     "name": "stdout",
     "output_type": "stream",
     "text": [
      "Total products in Cat:  116\n",
      "Products with image:  77\n"
     ]
    },
    {
     "name": "stderr",
     "output_type": "stream",
     "text": [
      "Scraping:  23%|██▎       | 27/115 [04:50<20:36, 14.06s/it]"
     ]
    },
    {
     "name": "stdout",
     "output_type": "stream",
     "text": [
      "Total products in Cat:  219\n",
      "Products with image:  141\n"
     ]
    },
    {
     "name": "stderr",
     "output_type": "stream",
     "text": [
      "Scraping:  24%|██▍       | 28/115 [04:53<15:36, 10.76s/it]"
     ]
    },
    {
     "name": "stdout",
     "output_type": "stream",
     "text": [
      "Total products in Cat:  37\n",
      "Products with image:  28\n"
     ]
    },
    {
     "name": "stderr",
     "output_type": "stream",
     "text": [
      "Scraping:  25%|██▌       | 29/115 [04:57<12:46,  8.92s/it]"
     ]
    },
    {
     "name": "stdout",
     "output_type": "stream",
     "text": [
      "Total products in Cat:  19\n",
      "Products with image:  19\n"
     ]
    },
    {
     "name": "stderr",
     "output_type": "stream",
     "text": [
      "Scraping:  26%|██▌       | 30/115 [05:08<13:17,  9.38s/it]"
     ]
    },
    {
     "name": "stdout",
     "output_type": "stream",
     "text": [
      "Total products in Cat:  11\n",
      "Products with image:  11\n"
     ]
    },
    {
     "name": "stderr",
     "output_type": "stream",
     "text": [
      "Scraping:  27%|██▋       | 31/115 [05:34<20:23, 14.57s/it]"
     ]
    },
    {
     "name": "stdout",
     "output_type": "stream",
     "text": [
      "Total products in Cat:  7\n",
      "Products with image:  7\n"
     ]
    },
    {
     "name": "stderr",
     "output_type": "stream",
     "text": [
      "Scraping:  28%|██▊       | 32/115 [05:37<15:22, 11.12s/it]"
     ]
    },
    {
     "name": "stdout",
     "output_type": "stream",
     "text": [
      "Total products in Cat:  76\n",
      "Products with image:  52\n"
     ]
    },
    {
     "name": "stderr",
     "output_type": "stream",
     "text": [
      "Scraping:  29%|██▊       | 33/115 [05:44<13:14,  9.69s/it]"
     ]
    },
    {
     "name": "stdout",
     "output_type": "stream",
     "text": [
      "Total products in Cat:  41\n",
      "Products with image:  23\n"
     ]
    },
    {
     "name": "stderr",
     "output_type": "stream",
     "text": [
      "Scraping:  30%|██▉       | 34/115 [05:46<09:57,  7.38s/it]"
     ]
    },
    {
     "name": "stdout",
     "output_type": "stream",
     "text": [
      "Total products in Cat:  24\n",
      "Products with image:  24\n"
     ]
    },
    {
     "name": "stderr",
     "output_type": "stream",
     "text": [
      "Scraping:  30%|███       | 35/115 [05:55<10:27,  7.84s/it]"
     ]
    },
    {
     "name": "stdout",
     "output_type": "stream",
     "text": [
      "Total products in Cat:  107\n",
      "Products with image:  65\n"
     ]
    },
    {
     "name": "stderr",
     "output_type": "stream",
     "text": [
      "Scraping:  31%|███▏      | 36/115 [06:10<13:23, 10.17s/it]"
     ]
    },
    {
     "name": "stdout",
     "output_type": "stream",
     "text": [
      "Total products in Cat:  1\n",
      "Products with image:  1\n"
     ]
    },
    {
     "name": "stderr",
     "output_type": "stream",
     "text": [
      "Scraping:  32%|███▏      | 37/115 [06:13<10:21,  7.97s/it]"
     ]
    },
    {
     "name": "stdout",
     "output_type": "stream",
     "text": [
      "Total products in Cat:  96\n",
      "Products with image:  18\n"
     ]
    },
    {
     "name": "stderr",
     "output_type": "stream",
     "text": [
      "Scraping:  33%|███▎      | 38/115 [06:18<09:05,  7.08s/it]"
     ]
    },
    {
     "name": "stdout",
     "output_type": "stream",
     "text": [
      "Total products in Cat:  2\n",
      "Products with image:  2\n"
     ]
    },
    {
     "name": "stderr",
     "output_type": "stream",
     "text": [
      "Scraping:  34%|███▍      | 39/115 [06:48<17:37, 13.91s/it]"
     ]
    },
    {
     "name": "stdout",
     "output_type": "stream",
     "text": [
      "Total products in Cat:  133\n",
      "Products with image:  112\n",
      "Total products in Cat:  144\n",
      "Products with image:  54\n"
     ]
    },
    {
     "name": "stderr",
     "output_type": "stream",
     "text": [
      "Scraping:  36%|███▌      | 41/115 [06:49<09:27,  7.67s/it]"
     ]
    },
    {
     "name": "stdout",
     "output_type": "stream",
     "text": [
      "Total products in Cat:  43\n",
      "Products with image:  16\n"
     ]
    },
    {
     "name": "stderr",
     "output_type": "stream",
     "text": [
      "Scraping:  37%|███▋      | 42/115 [06:56<09:14,  7.60s/it]"
     ]
    },
    {
     "name": "stdout",
     "output_type": "stream",
     "text": [
      "Total products in Cat:  76\n",
      "Products with image:  52\n"
     ]
    },
    {
     "name": "stderr",
     "output_type": "stream",
     "text": [
      "Scraping:  37%|███▋      | 43/115 [07:21<14:39, 12.21s/it]"
     ]
    },
    {
     "name": "stdout",
     "output_type": "stream",
     "text": [
      "Total products in Cat:  30\n",
      "Products with image:  30\n"
     ]
    },
    {
     "name": "stderr",
     "output_type": "stream",
     "text": [
      "Scraping:  38%|███▊      | 44/115 [07:28<12:30, 10.58s/it]"
     ]
    },
    {
     "name": "stdout",
     "output_type": "stream",
     "text": [
      "Total products in Cat:  41\n",
      "Products with image:  12\n"
     ]
    },
    {
     "name": "stderr",
     "output_type": "stream",
     "text": [
      "Scraping:  39%|███▉      | 45/115 [07:57<18:27, 15.82s/it]"
     ]
    },
    {
     "name": "stdout",
     "output_type": "stream",
     "text": [
      "Total products in Cat:  91\n",
      "Products with image:  64\n"
     ]
    },
    {
     "name": "stderr",
     "output_type": "stream",
     "text": [
      "Scraping:  40%|████      | 46/115 [08:14<18:31, 16.11s/it]"
     ]
    },
    {
     "name": "stdout",
     "output_type": "stream",
     "text": [
      "Total products in Cat:  109\n",
      "Products with image:  82\n"
     ]
    },
    {
     "name": "stderr",
     "output_type": "stream",
     "text": [
      "Scraping:  41%|████      | 47/115 [08:20<15:07, 13.35s/it]"
     ]
    },
    {
     "name": "stdout",
     "output_type": "stream",
     "text": [
      "Total products in Cat:  62\n",
      "Products with image:  44\n",
      "Total products in Cat:  19\n",
      "Products with image:  19\n"
     ]
    },
    {
     "name": "stderr",
     "output_type": "stream",
     "text": [
      "Scraping:  43%|████▎     | 49/115 [08:29<10:17,  9.35s/it]"
     ]
    },
    {
     "name": "stdout",
     "output_type": "stream",
     "text": [
      "Total products in Cat:  88\n",
      "Products with image:  67\n"
     ]
    },
    {
     "name": "stderr",
     "output_type": "stream",
     "text": [
      "Scraping:  43%|████▎     | 50/115 [08:33<08:35,  7.93s/it]"
     ]
    },
    {
     "name": "stdout",
     "output_type": "stream",
     "text": [
      "Total products in Cat:  7\n",
      "Products with image:  7\n"
     ]
    },
    {
     "name": "stderr",
     "output_type": "stream",
     "text": [
      "Scraping:  44%|████▍     | 51/115 [08:46<09:47,  9.18s/it]"
     ]
    },
    {
     "name": "stdout",
     "output_type": "stream",
     "text": [
      "Total products in Cat:  71\n",
      "Products with image:  53\n"
     ]
    },
    {
     "name": "stderr",
     "output_type": "stream",
     "text": [
      "Scraping:  45%|████▌     | 52/115 [09:07<13:04, 12.45s/it]"
     ]
    },
    {
     "name": "stdout",
     "output_type": "stream",
     "text": [
      "Total products in Cat:  19\n",
      "Products with image:  19\n"
     ]
    },
    {
     "name": "stderr",
     "output_type": "stream",
     "text": [
      "Scraping:  46%|████▌     | 53/115 [09:13<11:03, 10.70s/it]"
     ]
    },
    {
     "name": "stdout",
     "output_type": "stream",
     "text": [
      "Total products in Cat:  51\n",
      "Products with image:  21\n"
     ]
    },
    {
     "name": "stderr",
     "output_type": "stream",
     "text": [
      "Scraping:  47%|████▋     | 54/115 [09:14<07:54,  7.79s/it]"
     ]
    },
    {
     "name": "stdout",
     "output_type": "stream",
     "text": [
      "Total products in Cat:  10\n",
      "Products with image:  10\n"
     ]
    },
    {
     "name": "stderr",
     "output_type": "stream",
     "text": [
      "Scraping:  48%|████▊     | 55/115 [09:15<06:02,  6.04s/it]"
     ]
    },
    {
     "name": "stdout",
     "output_type": "stream",
     "text": [
      "Total products in Cat:  45\n",
      "Products with image:  30\n"
     ]
    },
    {
     "name": "stderr",
     "output_type": "stream",
     "text": [
      "Scraping:  49%|████▊     | 56/115 [09:25<06:58,  7.09s/it]"
     ]
    },
    {
     "name": "stdout",
     "output_type": "stream",
     "text": [
      "Total products in Cat:  35\n",
      "Products with image:  17\n"
     ]
    },
    {
     "name": "stderr",
     "output_type": "stream",
     "text": [
      "Scraping:  50%|████▉     | 57/115 [09:44<10:09, 10.51s/it]"
     ]
    },
    {
     "name": "stdout",
     "output_type": "stream",
     "text": [
      "Total products in Cat:  8\n",
      "Products with image:  8\n"
     ]
    },
    {
     "name": "stderr",
     "output_type": "stream",
     "text": [
      "Scraping:  50%|█████     | 58/115 [09:52<09:21,  9.86s/it]"
     ]
    },
    {
     "name": "stdout",
     "output_type": "stream",
     "text": [
      "Total products in Cat:  38\n",
      "Products with image:  17\n"
     ]
    },
    {
     "name": "stderr",
     "output_type": "stream",
     "text": [
      "Scraping:  51%|█████▏    | 59/115 [09:54<07:10,  7.68s/it]"
     ]
    },
    {
     "name": "stdout",
     "output_type": "stream",
     "text": [
      "Total products in Cat:  38\n",
      "Products with image:  35\n"
     ]
    },
    {
     "name": "stderr",
     "output_type": "stream",
     "text": [
      "Scraping:  52%|█████▏    | 60/115 [10:07<08:23,  9.16s/it]"
     ]
    },
    {
     "name": "stdout",
     "output_type": "stream",
     "text": [
      "Total products in Cat:  13\n",
      "Products with image:  13\n"
     ]
    },
    {
     "name": "stderr",
     "output_type": "stream",
     "text": [
      "Scraping:  53%|█████▎    | 61/115 [10:10<06:39,  7.40s/it]"
     ]
    },
    {
     "name": "stdout",
     "output_type": "stream",
     "text": [
      "Total products in Cat:  35\n",
      "Products with image:  29\n"
     ]
    },
    {
     "name": "stderr",
     "output_type": "stream",
     "text": [
      "Scraping:  54%|█████▍    | 62/115 [10:22<07:34,  8.57s/it]"
     ]
    },
    {
     "name": "stdout",
     "output_type": "stream",
     "text": [
      "Total products in Cat:  24\n",
      "Products with image:  24\n"
     ]
    },
    {
     "name": "stderr",
     "output_type": "stream",
     "text": [
      "Scraping:  55%|█████▍    | 63/115 [10:49<12:12, 14.08s/it]"
     ]
    },
    {
     "name": "stdout",
     "output_type": "stream",
     "text": [
      "Total products in Cat:  22\n",
      "Products with image:  16\n"
     ]
    },
    {
     "name": "stderr",
     "output_type": "stream",
     "text": [
      "Scraping:  56%|█████▌    | 64/115 [10:51<09:05, 10.69s/it]"
     ]
    },
    {
     "name": "stdout",
     "output_type": "stream",
     "text": [
      "Total products in Cat:  40\n",
      "Products with image:  37\n"
     ]
    },
    {
     "name": "stderr",
     "output_type": "stream",
     "text": [
      "Scraping:  57%|█████▋    | 65/115 [11:01<08:43, 10.47s/it]"
     ]
    },
    {
     "name": "stdout",
     "output_type": "stream",
     "text": [
      "Total products in Cat:  32\n",
      "Products with image:  29\n"
     ]
    },
    {
     "name": "stderr",
     "output_type": "stream",
     "text": [
      "Scraping:  57%|█████▋    | 66/115 [11:05<06:48,  8.33s/it]"
     ]
    },
    {
     "name": "stdout",
     "output_type": "stream",
     "text": [
      "Total products in Cat:  144\n",
      "Products with image:  51\n"
     ]
    },
    {
     "name": "stderr",
     "output_type": "stream",
     "text": [
      "Scraping:  58%|█████▊    | 67/115 [11:31<10:58, 13.72s/it]"
     ]
    },
    {
     "name": "stdout",
     "output_type": "stream",
     "text": [
      "Total products in Cat:  144\n",
      "Products with image:  66\n",
      "Total products in Cat:  66\n",
      "Products with image:  42\n"
     ]
    },
    {
     "name": "stderr",
     "output_type": "stream",
     "text": [
      "Scraping:  60%|██████    | 69/115 [12:13<12:45, 16.65s/it]"
     ]
    },
    {
     "name": "stdout",
     "output_type": "stream",
     "text": [
      "Total products in Cat:  144\n",
      "Products with image:  54\n"
     ]
    },
    {
     "name": "stderr",
     "output_type": "stream",
     "text": [
      "Scraping:  61%|██████    | 70/115 [12:39<14:41, 19.59s/it]"
     ]
    },
    {
     "name": "stdout",
     "output_type": "stream",
     "text": [
      "Total products in Cat:  42\n",
      "Products with image:  36\n"
     ]
    },
    {
     "name": "stderr",
     "output_type": "stream",
     "text": [
      "Scraping:  62%|██████▏   | 71/115 [12:54<13:13, 18.03s/it]"
     ]
    },
    {
     "name": "stdout",
     "output_type": "stream",
     "text": [
      "Total products in Cat:  96\n",
      "Products with image:  30\n"
     ]
    },
    {
     "name": "stderr",
     "output_type": "stream",
     "text": [
      "Scraping:  63%|██████▎   | 72/115 [13:07<11:52, 16.58s/it]"
     ]
    },
    {
     "name": "stdout",
     "output_type": "stream",
     "text": [
      "Total products in Cat:  96\n",
      "Products with image:  27\n"
     ]
    },
    {
     "name": "stderr",
     "output_type": "stream",
     "text": [
      "Scraping:  63%|██████▎   | 73/115 [13:33<13:39, 19.50s/it]"
     ]
    },
    {
     "name": "stdout",
     "output_type": "stream",
     "text": [
      "Total products in Cat:  12\n",
      "Products with image:  12\n",
      "Total products in Cat:  264\n",
      "Products with image:  207\n"
     ]
    },
    {
     "name": "stderr",
     "output_type": "stream",
     "text": [
      "Scraping:  65%|██████▌   | 75/115 [13:46<08:56, 13.42s/it]"
     ]
    },
    {
     "name": "stdout",
     "output_type": "stream",
     "text": [
      "Total products in Cat:  19\n",
      "Products with image:  19\n"
     ]
    },
    {
     "name": "stderr",
     "output_type": "stream",
     "text": [
      "Scraping:  66%|██████▌   | 76/115 [14:01<08:55, 13.73s/it]"
     ]
    },
    {
     "name": "stdout",
     "output_type": "stream",
     "text": [
      "Total products in Cat:  50\n",
      "Products with image:  32\n"
     ]
    },
    {
     "name": "stderr",
     "output_type": "stream",
     "text": [
      "Scraping:  67%|██████▋   | 77/115 [14:17<09:07, 14.40s/it]"
     ]
    },
    {
     "name": "stdout",
     "output_type": "stream",
     "text": [
      "Total products in Cat:  260\n",
      "Products with image:  197\n"
     ]
    },
    {
     "name": "stderr",
     "output_type": "stream",
     "text": [
      "Scraping:  68%|██████▊   | 78/115 [14:28<08:15, 13.39s/it]"
     ]
    },
    {
     "name": "stdout",
     "output_type": "stream",
     "text": [
      "Total products in Cat:  52\n",
      "Products with image:  34\n"
     ]
    },
    {
     "name": "stderr",
     "output_type": "stream",
     "text": [
      "Scraping:  69%|██████▊   | 79/115 [14:41<07:57, 13.26s/it]"
     ]
    },
    {
     "name": "stdout",
     "output_type": "stream",
     "text": [
      "Total products in Cat:  17\n",
      "Products with image:  17\n"
     ]
    },
    {
     "name": "stderr",
     "output_type": "stream",
     "text": [
      "Scraping:  70%|██████▉   | 80/115 [15:39<15:20, 26.31s/it]"
     ]
    },
    {
     "name": "stdout",
     "output_type": "stream",
     "text": [
      "Total products in Cat:  134\n",
      "Products with image:  104\n"
     ]
    },
    {
     "name": "stderr",
     "output_type": "stream",
     "text": [
      "Scraping:  70%|███████   | 81/115 [15:52<12:39, 22.34s/it]"
     ]
    },
    {
     "name": "stdout",
     "output_type": "stream",
     "text": [
      "Total products in Cat:  58\n",
      "Products with image:  40\n"
     ]
    },
    {
     "name": "stderr",
     "output_type": "stream",
     "text": [
      "Scraping:  71%|███████▏  | 82/115 [15:58<09:37, 17.51s/it]"
     ]
    },
    {
     "name": "stdout",
     "output_type": "stream",
     "text": [
      "Total products in Cat:  156\n",
      "Products with image:  126\n"
     ]
    },
    {
     "name": "stderr",
     "output_type": "stream",
     "text": [
      "Scraping:  72%|███████▏  | 83/115 [16:36<12:30, 23.45s/it]"
     ]
    },
    {
     "name": "stdout",
     "output_type": "stream",
     "text": [
      "Total products in Cat:  108\n",
      "Products with image:  84\n"
     ]
    },
    {
     "name": "stderr",
     "output_type": "stream",
     "text": [
      "Scraping:  73%|███████▎  | 84/115 [16:46<10:04, 19.50s/it]"
     ]
    },
    {
     "name": "stdout",
     "output_type": "stream",
     "text": [
      "Total products in Cat:  510\n",
      "Products with image:  432\n"
     ]
    },
    {
     "name": "stderr",
     "output_type": "stream",
     "text": [
      "Scraping:  74%|███████▍  | 85/115 [16:56<08:24, 16.80s/it]"
     ]
    },
    {
     "name": "stdout",
     "output_type": "stream",
     "text": [
      "Total products in Cat:  190\n",
      "Products with image:  160\n"
     ]
    },
    {
     "name": "stderr",
     "output_type": "stream",
     "text": [
      "Scraping:  75%|███████▍  | 86/115 [17:03<06:45, 13.97s/it]"
     ]
    },
    {
     "name": "stdout",
     "output_type": "stream",
     "text": [
      "Total products in Cat:  62\n",
      "Products with image:  41\n"
     ]
    },
    {
     "name": "stderr",
     "output_type": "stream",
     "text": [
      "Scraping:  76%|███████▌  | 87/115 [17:06<04:58, 10.67s/it]"
     ]
    },
    {
     "name": "stdout",
     "output_type": "stream",
     "text": [
      "Total products in Cat:  69\n",
      "Products with image:  51\n"
     ]
    },
    {
     "name": "stderr",
     "output_type": "stream",
     "text": [
      "Scraping:  77%|███████▋  | 88/115 [17:16<04:37, 10.29s/it]"
     ]
    },
    {
     "name": "stdout",
     "output_type": "stream",
     "text": [
      "Total products in Cat:  96\n",
      "Products with image:  24\n"
     ]
    },
    {
     "name": "stderr",
     "output_type": "stream",
     "text": [
      "Scraping:  77%|███████▋  | 89/115 [17:50<07:31, 17.37s/it]"
     ]
    },
    {
     "name": "stdout",
     "output_type": "stream",
     "text": [
      "Total products in Cat:  50\n",
      "Products with image:  29\n"
     ]
    },
    {
     "name": "stderr",
     "output_type": "stream",
     "text": [
      "Scraping:  78%|███████▊  | 90/115 [17:55<05:45, 13.80s/it]"
     ]
    },
    {
     "name": "stdout",
     "output_type": "stream",
     "text": [
      "Total products in Cat:  169\n",
      "Products with image:  66\n"
     ]
    },
    {
     "name": "stderr",
     "output_type": "stream",
     "text": [
      "Scraping:  79%|███████▉  | 91/115 [18:43<09:35, 23.99s/it]"
     ]
    },
    {
     "name": "stdout",
     "output_type": "stream",
     "text": [
      "Total products in Cat:  129\n",
      "Products with image:  93\n"
     ]
    },
    {
     "name": "stderr",
     "output_type": "stream",
     "text": [
      "Scraping:  80%|████████  | 92/115 [18:44<06:30, 16.99s/it]"
     ]
    },
    {
     "name": "stdout",
     "output_type": "stream",
     "text": [
      "Total products in Cat:  57\n",
      "Products with image:  36\n"
     ]
    },
    {
     "name": "stderr",
     "output_type": "stream",
     "text": [
      "Scraping:  81%|████████  | 93/115 [18:54<05:32, 15.11s/it]"
     ]
    },
    {
     "name": "stdout",
     "output_type": "stream",
     "text": [
      "Total products in Cat:  84\n",
      "Products with image:  57\n"
     ]
    },
    {
     "name": "stderr",
     "output_type": "stream",
     "text": [
      "Scraping:  82%|████████▏ | 94/115 [19:03<04:36, 13.19s/it]"
     ]
    },
    {
     "name": "stdout",
     "output_type": "stream",
     "text": [
      "Total products in Cat:  230\n",
      "Products with image:  173\n"
     ]
    },
    {
     "name": "stderr",
     "output_type": "stream",
     "text": [
      "Scraping:  83%|████████▎ | 95/115 [19:34<06:13, 18.66s/it]"
     ]
    },
    {
     "name": "stdout",
     "output_type": "stream",
     "text": [
      "Total products in Cat:  76\n",
      "Products with image:  52\n"
     ]
    },
    {
     "name": "stderr",
     "output_type": "stream",
     "text": [
      "Scraping:  83%|████████▎ | 96/115 [19:37<04:22, 13.83s/it]"
     ]
    },
    {
     "name": "stdout",
     "output_type": "stream",
     "text": [
      "Total products in Cat:  62\n",
      "Products with image:  38\n"
     ]
    },
    {
     "name": "stderr",
     "output_type": "stream",
     "text": [
      "Scraping:  84%|████████▍ | 97/115 [19:47<03:50, 12.80s/it]"
     ]
    },
    {
     "name": "stdout",
     "output_type": "stream",
     "text": [
      "Total products in Cat:  184\n",
      "Products with image:  154\n"
     ]
    },
    {
     "name": "stderr",
     "output_type": "stream",
     "text": [
      "Scraping:  85%|████████▌ | 98/115 [19:55<03:13, 11.36s/it]"
     ]
    },
    {
     "name": "stdout",
     "output_type": "stream",
     "text": [
      "Total products in Cat:  16\n",
      "Products with image:  16\n"
     ]
    },
    {
     "name": "stderr",
     "output_type": "stream",
     "text": [
      "Scraping:  86%|████████▌ | 99/115 [21:04<07:38, 28.65s/it]"
     ]
    },
    {
     "name": "stdout",
     "output_type": "stream",
     "text": [
      "Total products in Cat:  40\n",
      "Products with image:  34\n"
     ]
    },
    {
     "name": "stderr",
     "output_type": "stream",
     "text": [
      "Scraping:  87%|████████▋ | 100/115 [21:14<05:42, 22.86s/it]"
     ]
    },
    {
     "name": "stdout",
     "output_type": "stream",
     "text": [
      "Total products in Cat:  63\n",
      "Products with image:  39\n"
     ]
    },
    {
     "name": "stderr",
     "output_type": "stream",
     "text": [
      "Scraping:  88%|████████▊ | 101/115 [21:20<04:10, 17.90s/it]"
     ]
    },
    {
     "name": "stdout",
     "output_type": "stream",
     "text": [
      "Total products in Cat:  186\n",
      "Products with image:  144\n"
     ]
    },
    {
     "name": "stderr",
     "output_type": "stream",
     "text": [
      "Traceback (most recent call last):\n",
      "  File \"C:\\Users\\Rishi\\AppData\\Local\\Temp\\ipykernel_24288\\3857703333.py\", line 12, in process_category\n",
      "    products_list = parse_soup(scrape_webpage(link))\n",
      "  File \"C:\\Users\\Rishi\\AppData\\Local\\Temp\\ipykernel_24288\\2207983750.py\", line 4, in parse_soup\n",
      "    for product_soup in products_soup.find_all(\"li\"):\n",
      "                        ^^^^^^^^^^^^^^^^^^^^^^\n",
      "AttributeError: 'NoneType' object has no attribute 'find_all'\n",
      "Scraping:  89%|████████▊ | 102/115 [21:26<03:06, 14.33s/it]"
     ]
    },
    {
     "name": "stdout",
     "output_type": "stream",
     "text": [
      "Failed while scraping for category: https://www.bigbasket.com/pc/gourmet-world-food/drinks-beverages/health-drinks/?nc=cs#!page=1\n"
     ]
    },
    {
     "name": "stderr",
     "output_type": "stream",
     "text": [
      "Scraping:  90%|████████▉ | 103/115 [22:07<04:25, 22.15s/it]"
     ]
    },
    {
     "name": "stdout",
     "output_type": "stream",
     "text": [
      "Total products in Cat:  22\n",
      "Products with image:  22\n"
     ]
    },
    {
     "name": "stderr",
     "output_type": "stream",
     "text": [
      "Scraping:  90%|█████████ | 104/115 [22:16<03:23, 18.46s/it]"
     ]
    },
    {
     "name": "stdout",
     "output_type": "stream",
     "text": [
      "Total products in Cat:  175\n",
      "Products with image:  154\n"
     ]
    },
    {
     "name": "stderr",
     "output_type": "stream",
     "text": [
      "Scraping:  91%|█████████▏| 105/115 [22:44<03:33, 21.31s/it]"
     ]
    },
    {
     "name": "stdout",
     "output_type": "stream",
     "text": [
      "Total products in Cat:  236\n",
      "Products with image:  191\n"
     ]
    },
    {
     "name": "stderr",
     "output_type": "stream",
     "text": [
      "Scraping:  92%|█████████▏| 106/115 [22:55<02:42, 18.00s/it]"
     ]
    },
    {
     "name": "stdout",
     "output_type": "stream",
     "text": [
      "Total products in Cat:  336\n",
      "Products with image:  285\n"
     ]
    },
    {
     "name": "stderr",
     "output_type": "stream",
     "text": [
      "Scraping:  93%|█████████▎| 107/115 [23:26<02:55, 21.97s/it]"
     ]
    },
    {
     "name": "stdout",
     "output_type": "stream",
     "text": [
      "Total products in Cat:  94\n",
      "Products with image:  64\n"
     ]
    },
    {
     "name": "stderr",
     "output_type": "stream",
     "text": [
      "Scraping:  94%|█████████▍| 108/115 [23:31<01:59, 17.07s/it]"
     ]
    },
    {
     "name": "stdout",
     "output_type": "stream",
     "text": [
      "Total products in Cat:  11\n",
      "Products with image:  11\n"
     ]
    },
    {
     "name": "stderr",
     "output_type": "stream",
     "text": [
      "Scraping:  95%|█████████▍| 109/115 [23:38<01:22, 13.83s/it]"
     ]
    },
    {
     "name": "stdout",
     "output_type": "stream",
     "text": [
      "Total products in Cat:  26\n",
      "Products with image:  23\n"
     ]
    },
    {
     "name": "stderr",
     "output_type": "stream",
     "text": [
      "Scraping:  96%|█████████▌| 110/115 [23:45<01:00, 12.01s/it]"
     ]
    },
    {
     "name": "stdout",
     "output_type": "stream",
     "text": [
      "Total products in Cat:  103\n",
      "Products with image:  67\n"
     ]
    },
    {
     "name": "stderr",
     "output_type": "stream",
     "text": [
      "Scraping:  97%|█████████▋| 111/115 [23:59<00:49, 12.47s/it]"
     ]
    },
    {
     "name": "stdout",
     "output_type": "stream",
     "text": [
      "Total products in Cat:  172\n",
      "Products with image:  142\n"
     ]
    },
    {
     "name": "stderr",
     "output_type": "stream",
     "text": [
      "Scraping:  97%|█████████▋| 112/115 [24:18<00:43, 14.50s/it]"
     ]
    },
    {
     "name": "stdout",
     "output_type": "stream",
     "text": [
      "Total products in Cat:  20\n",
      "Products with image:  20\n"
     ]
    },
    {
     "name": "stderr",
     "output_type": "stream",
     "text": [
      "Scraping:  98%|█████████▊| 113/115 [24:24<00:24, 12.02s/it]"
     ]
    },
    {
     "name": "stdout",
     "output_type": "stream",
     "text": [
      "Total products in Cat:  79\n",
      "Products with image:  33\n"
     ]
    },
    {
     "name": "stderr",
     "output_type": "stream",
     "text": [
      "Scraping:  99%|█████████▉| 114/115 [24:30<00:09,  9.94s/it]"
     ]
    },
    {
     "name": "stdout",
     "output_type": "stream",
     "text": [
      "Total products in Cat:  14\n",
      "Products with image:  14\n"
     ]
    },
    {
     "name": "stderr",
     "output_type": "stream",
     "text": [
      "Scraping: 100%|██████████| 115/115 [24:35<00:00, 12.83s/it]"
     ]
    },
    {
     "name": "stdout",
     "output_type": "stream",
     "text": [
      "Total products in Cat:  219\n",
      "Products with image:  189\n"
     ]
    },
    {
     "name": "stderr",
     "output_type": "stream",
     "text": [
      "\n"
     ]
    }
   ],
   "source": [
    "subset = categories\n",
    "\n",
    "with ThreadPoolExecutor(max_workers=6) as executor:\n",
    "    futures = [executor.submit(process_category, cat) for cat in subset]\n",
    "    for future in tqdm(as_completed(futures), total=len(futures), desc=\"Scraping\"):\n",
    "        _ = future.result()"
   ]
  },
  {
   "cell_type": "code",
   "execution_count": 36,
   "id": "ac4cfe74",
   "metadata": {},
   "outputs": [],
   "source": [
    "import os\n",
    "import json\n",
    "import re\n",
    "import requests\n",
    "from tqdm import tqdm\n",
    "from concurrent.futures import ThreadPoolExecutor\n",
    "\n",
    "OUTPUT_DIR = \"./assets/images\""
   ]
  },
  {
   "cell_type": "code",
   "execution_count": 67,
   "id": "9a422a42",
   "metadata": {},
   "outputs": [],
   "source": [
    "with open(\"./assets/categories.json\", \"r\") as f:\n",
    "    categories = json.load(f)"
   ]
  },
  {
   "cell_type": "code",
   "execution_count": 68,
   "id": "abf4c3d6",
   "metadata": {},
   "outputs": [],
   "source": [
    "def sanitize_filename(text):\n",
    "    return re.sub(r'[^a-zA-Z0-9]', '', text)[:50]"
   ]
  },
  {
   "cell_type": "code",
   "execution_count": 71,
   "id": "d64dda90",
   "metadata": {},
   "outputs": [],
   "source": [
    "def download_image_and_metadata(args):\n",
    "    category, product, category_meta = args\n",
    "\n",
    "    image_link = product.get(\"image_link\")\n",
    "    if not image_link:\n",
    "        return None\n",
    "\n",
    "    name = product.get(\"name\")\n",
    "    ext = image_link.split(\".\")[-1].split(\"?\")[0]\n",
    "    filename = f\"{sanitize_filename(name)}.{ext}\"\n",
    "    dirpath = os.path.join(OUTPUT_DIR, sanitize_filename(category_meta[\"category\"]))\n",
    "    os.makedirs(dirpath, exist_ok=True)\n",
    "    filepath = os.path.join(dirpath, filename)\n",
    "\n",
    "    try:\n",
    "        if not os.path.exists(filepath):\n",
    "            response = requests.get(image_link, timeout=10)\n",
    "            if response.status_code == 200:\n",
    "                with open(filepath, \"wb\") as f:\n",
    "                    f.write(response.content)\n",
    "\n",
    "        return {\n",
    "            \"category\": category_meta[\"category\"],\n",
    "            \"sub_category_1\": category_meta[\"sub_category_1\"],\n",
    "            \"sub_category_2\": category_meta[\"sub_category_2\"],\n",
    "            \"filename\": os.path.abspath(filepath),\n",
    "            \"name\": name,\n",
    "            \"sku_type\": product.get(\"sku_type\"),\n",
    "            \"rating\": product.get(\"rating\"),\n",
    "            \"image_url\": image_link\n",
    "        }\n",
    "\n",
    "    except Exception as e:\n",
    "        print(f\"Error downloading {image_link}: {e}\")\n",
    "        return None"
   ]
  },
  {
   "cell_type": "code",
   "execution_count": 72,
   "id": "a6687aa8",
   "metadata": {},
   "outputs": [
    {
     "name": "stdout",
     "output_type": "stream",
     "text": [
      "Could not load ./assets/product_links/FruitsVegetables/FlowerBouquetsBunches_OtherFlowers.json: [Errno 2] No such file or directory: './assets/product_links/FruitsVegetables/FlowerBouquetsBunches_OtherFlowers.json'\n",
      "Could not load ./assets/product_links/FruitsVegetables/FlowerBouquetsBunches_Roses.json: [Errno 2] No such file or directory: './assets/product_links/FruitsVegetables/FlowerBouquetsBunches_Roses.json'\n",
      "Could not load ./assets/product_links/BakeryCakesDairy/Dairy_Cheese.json: [Errno 2] No such file or directory: './assets/product_links/BakeryCakesDairy/Dairy_Cheese.json'\n",
      "Could not load ./assets/product_links/BakeryCakesDairy/BreadsBuns_BrownWheatMultigrain.json: [Errno 2] No such file or directory: './assets/product_links/BakeryCakesDairy/BreadsBuns_BrownWheatMultigrain.json'\n",
      "Could not load ./assets/product_links/SnacksBrandedFoods/IndianMithai_ChikkiGajjak.json: [Errno 2] No such file or directory: './assets/product_links/SnacksBrandedFoods/IndianMithai_ChikkiGajjak.json'\n",
      "Could not load ./assets/product_links/BeautyHygiene/OralCare_Mouthwash.json: [Errno 2] No such file or directory: './assets/product_links/BeautyHygiene/OralCare_Mouthwash.json'\n",
      "Could not load ./assets/product_links/CleaningHousehold/PartyFestiveNeeds_DisposableCupsPlates.json: [Errno 2] No such file or directory: './assets/product_links/CleaningHousehold/PartyFestiveNeeds_DisposableCupsPlates.json'\n",
      "Could not load ./assets/product_links/CleaningHousehold/AutomotiveAccessories_Helmets.json: [Errno 2] No such file or directory: './assets/product_links/CleaningHousehold/AutomotiveAccessories_Helmets.json'\n",
      "Could not load ./assets/product_links/KitchenGardenPets/KitchenAccessories_Lighters.json: [Errno 2] No such file or directory: './assets/product_links/KitchenGardenPets/KitchenAccessories_Lighters.json'\n",
      "Could not load ./assets/product_links/KitchenGardenPets/Electricals_LEDBulbsBattens.json: [Errno 2] No such file or directory: './assets/product_links/KitchenGardenPets/Electricals_LEDBulbsBattens.json'\n",
      "Could not load ./assets/product_links/KitchenGardenPets/ElectronicsDevices_BatteryPowerBank.json: [Errno 2] No such file or directory: './assets/product_links/KitchenGardenPets/ElectronicsDevices_BatteryPowerBank.json'\n",
      "Could not load ./assets/product_links/GourmetWorldFood/DrinksBeverages_HealthDrinks.json: [Errno 2] No such file or directory: './assets/product_links/GourmetWorldFood/DrinksBeverages_HealthDrinks.json'\n"
     ]
    }
   ],
   "source": [
    "args_list = []\n",
    "\n",
    "for category in categories:\n",
    "    category_name = re.sub(r'[^a-zA-Z0-9]', '', category.get(\"category\"))\n",
    "    sub_category_1 = re.sub(r'[^a-zA-Z0-9]', '', category.get(\"sub_category_1\"))\n",
    "    sub_category_2 = re.sub(r'[^a-zA-Z0-9]', '', category.get(\"sub_category_2\"))\n",
    "\n",
    "    file_path = f\"./assets/product_links/{category_name}/{sub_category_1}_{sub_category_2}.json\"\n",
    "\n",
    "    try:\n",
    "        with open(file_path, 'r') as f:\n",
    "            products = json.load(f)\n",
    "\n",
    "        for product in products:\n",
    "            args_list.append((category, product, {\n",
    "                \"category\": category.get(\"category\"),\n",
    "                \"sub_category_1\": category.get(\"sub_category_1\"),\n",
    "                \"sub_category_2\": category.get(\"sub_category_2\")\n",
    "            }))\n",
    "    except Exception as e:\n",
    "        print(f\"Could not load {file_path}: {e}\")"
   ]
  },
  {
   "cell_type": "code",
   "execution_count": 73,
   "id": "c41dbe54",
   "metadata": {},
   "outputs": [
    {
     "name": "stderr",
     "output_type": "stream",
     "text": [
      "Downloading: 100%|██████████| 32644/32644 [04:22<00:00, 124.54it/s]\n"
     ]
    }
   ],
   "source": [
    "metadata = []\n",
    "with ThreadPoolExecutor(max_workers=16) as executor:\n",
    "    for result in tqdm(executor.map(download_image_and_metadata, args_list), total=len(args_list), desc=\"Downloading\"):\n",
    "        if result:\n",
    "            metadata.append(result)"
   ]
  },
  {
   "cell_type": "code",
   "execution_count": 74,
   "id": "ab7ee0d1",
   "metadata": {},
   "outputs": [],
   "source": [
    "metadata_df = pd.DataFrame(metadata)\n",
    "\n",
    "metadata_df.to_csv(\"training_metadata.csv\")"
   ]
  },
  {
   "cell_type": "code",
   "execution_count": 78,
   "id": "979e1e49",
   "metadata": {},
   "outputs": [
    {
     "data": {
      "text/plain": [
       "'d:\\\\tortoise\\\\cv\\\\assets\\\\images\\\\FruitsVegetables\\\\Onion.jpg'"
      ]
     },
     "execution_count": 78,
     "metadata": {},
     "output_type": "execute_result"
    }
   ],
   "source": [
    "metadata_df[\"filename\"][0]"
   ]
  }
 ],
 "metadata": {
  "kernelspec": {
   "display_name": ".venv",
   "language": "python",
   "name": "python3"
  },
  "language_info": {
   "codemirror_mode": {
    "name": "ipython",
    "version": 3
   },
   "file_extension": ".py",
   "mimetype": "text/x-python",
   "name": "python",
   "nbconvert_exporter": "python",
   "pygments_lexer": "ipython3",
   "version": "3.13.2"
  }
 },
 "nbformat": 4,
 "nbformat_minor": 5
}
